{
 "cells": [
  {
   "cell_type": "markdown",
   "metadata": {},
   "source": [
    "# Assignment 3 Dashboard\n",
    "**Name: Rommel Antunez Barrios**\n",
    "\n",
    "**e-mail: rommel.antunez6474@alumnos.udg.mx**"
   ]
  }
 ],
 "metadata": {
  "language_info": {
   "name": "python"
  }
 },
 "nbformat": 4,
 "nbformat_minor": 2
}
